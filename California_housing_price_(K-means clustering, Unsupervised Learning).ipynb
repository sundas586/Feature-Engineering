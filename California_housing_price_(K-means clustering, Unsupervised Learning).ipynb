{
 "cells": [
  {
   "cell_type": "markdown",
   "id": "772f86f4",
   "metadata": {},
   "source": [
    "## California Housing\n",
    "\n",
    "As spatial features, California Housing's 'Latitude' and 'Longitude' make natural candidates for k-means clustering. \n",
    "In this example we'll cluster these with 'MedInc' (median income) to create economic segments in different regions of California."
   ]
  },
  {
   "cell_type": "markdown",
   "id": "31b0c271",
   "metadata": {},
   "source": [
    "Since k-means clustering is sensitive to scale,\n",
    "it can be a good idea rescale or normalize data with extreme values.\n",
    "Our features are already roughly on the same scale, so we'll leave them as-is"
   ]
  },
  {
   "cell_type": "code",
   "execution_count": null,
   "id": "9ba54aa0",
   "metadata": {},
   "outputs": [],
   "source": [
    "! conda install -c conda-forge xgboost"
   ]
  },
  {
   "cell_type": "code",
   "execution_count": 1,
   "id": "20f10a87",
   "metadata": {},
   "outputs": [
    {
     "ename": "ModuleNotFoundError",
     "evalue": "No module named 'xgboost'",
     "output_type": "error",
     "traceback": [
      "\u001b[1;31m---------------------------------------------------------------------------\u001b[0m",
      "\u001b[1;31mModuleNotFoundError\u001b[0m                       Traceback (most recent call last)",
      "\u001b[1;32m~\\AppData\\Local\\Temp/ipykernel_1464/3751908919.py\u001b[0m in \u001b[0;36m<module>\u001b[1;34m\u001b[0m\n\u001b[0;32m      5\u001b[0m \u001b[1;32mfrom\u001b[0m \u001b[0msklearn\u001b[0m\u001b[1;33m.\u001b[0m\u001b[0mcluster\u001b[0m \u001b[1;32mimport\u001b[0m \u001b[0mKMeans\u001b[0m\u001b[1;33m\u001b[0m\u001b[1;33m\u001b[0m\u001b[0m\n\u001b[0;32m      6\u001b[0m \u001b[1;32mfrom\u001b[0m \u001b[0msklearn\u001b[0m\u001b[1;33m.\u001b[0m\u001b[0mmodel_selection\u001b[0m \u001b[1;32mimport\u001b[0m \u001b[0mcross_val_score\u001b[0m\u001b[1;33m\u001b[0m\u001b[1;33m\u001b[0m\u001b[0m\n\u001b[1;32m----> 7\u001b[1;33m \u001b[1;32mfrom\u001b[0m \u001b[0mxgboost\u001b[0m \u001b[1;32mimport\u001b[0m \u001b[0mXGBRegressor\u001b[0m\u001b[1;33m\u001b[0m\u001b[1;33m\u001b[0m\u001b[0m\n\u001b[0m",
      "\u001b[1;31mModuleNotFoundError\u001b[0m: No module named 'xgboost'"
     ]
    }
   ],
   "source": [
    "import matplotlib.pyplot as plt\n",
    "import numpy as np\n",
    "import pandas as pd\n",
    "import seaborn as sns\n",
    "from sklearn.cluster import KMeans\n",
    "from sklearn.model_selection import cross_val_score\n",
    "from xgboost import XGBRegressor"
   ]
  },
  {
   "cell_type": "code",
   "execution_count": null,
   "id": "dd12ea7a",
   "metadata": {},
   "outputs": [],
   "source": [
    "# Create cluster feature\n",
    "kmeans = KMeans(n_clusters=6)\n",
    "X[\"Cluster\"] = kmeans.fit_predict(X)\n",
    "X[\"Cluster\"] = X[\"Cluster\"].astype(\"category\")\n",
    "\n",
    "X.head()"
   ]
  },
  {
   "cell_type": "markdown",
   "id": "bf487f62",
   "metadata": {},
   "source": [
    "Now let's look at a couple plots to see how effective this was.\n",
    "First, a scatter plot that shows the geographic distribution of the clusters.\n",
    "It seems like the algorithm has created separate segments for higher-income areas on the coasts."
   ]
  },
  {
   "cell_type": "code",
   "execution_count": null,
   "id": "8b6c81b4",
   "metadata": {},
   "outputs": [],
   "source": [
    "sns.relplot(\n",
    "    x=\"Longitude\", y=\"Latitude\", hue=\"Cluster\", data=X, height=6,\n",
    ");"
   ]
  },
  {
   "cell_type": "markdown",
   "id": "42cd8b84",
   "metadata": {},
   "source": [
    "The target in this dataset is MedHouseVal (median house value).\n",
    "These box-plots show the distribution of the target within each cluster. \n",
    "If the clustering is informative, \n",
    "these distributions should, for the most part, separate across MedHouseVal, which is indeed what we see."
   ]
  },
  {
   "cell_type": "code",
   "execution_count": null,
   "id": "f6ddfc97",
   "metadata": {},
   "outputs": [],
   "source": [
    "X[\"MedHouseVal\"] = df[\"MedHouseVal\"]\n",
    "sns.catplot(x=\"MedHouseVal\", y=\"Cluster\", data=X, kind=\"boxen\", height=6);"
   ]
  }
 ],
 "metadata": {
  "kernelspec": {
   "display_name": "Python 3 (ipykernel)",
   "language": "python",
   "name": "python3"
  },
  "language_info": {
   "codemirror_mode": {
    "name": "ipython",
    "version": 3
   },
   "file_extension": ".py",
   "mimetype": "text/x-python",
   "name": "python",
   "nbconvert_exporter": "python",
   "pygments_lexer": "ipython3",
   "version": "3.9.7"
  }
 },
 "nbformat": 4,
 "nbformat_minor": 5
}
